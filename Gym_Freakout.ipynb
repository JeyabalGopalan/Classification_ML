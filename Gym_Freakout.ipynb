{
 "cells": [
  {
   "cell_type": "markdown",
   "id": "c6dc5dd6-ed27-4416-9e4b-e892ddc55954",
   "metadata": {},
   "source": [
    "# Will our boys Go to the Gym or Stay Home?"
   ]
  },
  {
   "cell_type": "markdown",
   "id": "2cf66ec9-4af9-4c0d-b11c-4530be937942",
   "metadata": {},
   "source": [
    "## Step 1: Importing the required libraries "
   ]
  },
  {
   "cell_type": "code",
   "execution_count": 1,
   "id": "31faa3e8-951b-475d-93eb-c920cd34afbb",
   "metadata": {},
   "outputs": [],
   "source": [
    "import pandas as pd\n",
    "import numpy as np\n",
    "import matplotlib.pyplot as plt\n",
    "import seaborn as sns"
   ]
  },
  {
   "cell_type": "markdown",
   "id": "0f530192-70fe-4115-9f2e-3f3bad200359",
   "metadata": {},
   "source": [
    "## Step 1.1: Loading the dataset"
   ]
  },
  {
   "cell_type": "code",
   "execution_count": 3,
   "id": "2a085c96-f892-4bca-a631-70815b2b10a8",
   "metadata": {},
   "outputs": [
    {
     "data": {
      "text/html": [
       "<div>\n",
       "<style scoped>\n",
       "    .dataframe tbody tr th:only-of-type {\n",
       "        vertical-align: middle;\n",
       "    }\n",
       "\n",
       "    .dataframe tbody tr th {\n",
       "        vertical-align: top;\n",
       "    }\n",
       "\n",
       "    .dataframe thead th {\n",
       "        text-align: right;\n",
       "    }\n",
       "</style>\n",
       "<table border=\"1\" class=\"dataframe\">\n",
       "  <thead>\n",
       "    <tr style=\"text-align: right;\">\n",
       "      <th></th>\n",
       "      <th>Temperature</th>\n",
       "      <th>Distance</th>\n",
       "      <th>Days Since Last</th>\n",
       "      <th>Gym Attendance</th>\n",
       "    </tr>\n",
       "  </thead>\n",
       "  <tbody>\n",
       "    <tr>\n",
       "      <th>0</th>\n",
       "      <td>38</td>\n",
       "      <td>1.716910</td>\n",
       "      <td>28</td>\n",
       "      <td>0</td>\n",
       "    </tr>\n",
       "    <tr>\n",
       "      <th>1</th>\n",
       "      <td>26</td>\n",
       "      <td>3.713541</td>\n",
       "      <td>8</td>\n",
       "      <td>1</td>\n",
       "    </tr>\n",
       "    <tr>\n",
       "      <th>2</th>\n",
       "      <td>15</td>\n",
       "      <td>9.316795</td>\n",
       "      <td>19</td>\n",
       "      <td>0</td>\n",
       "    </tr>\n",
       "    <tr>\n",
       "      <th>3</th>\n",
       "      <td>39</td>\n",
       "      <td>2.633848</td>\n",
       "      <td>5</td>\n",
       "      <td>0</td>\n",
       "    </tr>\n",
       "    <tr>\n",
       "      <th>4</th>\n",
       "      <td>35</td>\n",
       "      <td>4.035587</td>\n",
       "      <td>17</td>\n",
       "      <td>0</td>\n",
       "    </tr>\n",
       "    <tr>\n",
       "      <th>...</th>\n",
       "      <td>...</td>\n",
       "      <td>...</td>\n",
       "      <td>...</td>\n",
       "      <td>...</td>\n",
       "    </tr>\n",
       "    <tr>\n",
       "      <th>298</th>\n",
       "      <td>36</td>\n",
       "      <td>7.333859</td>\n",
       "      <td>5</td>\n",
       "      <td>0</td>\n",
       "    </tr>\n",
       "    <tr>\n",
       "      <th>299</th>\n",
       "      <td>27</td>\n",
       "      <td>8.957452</td>\n",
       "      <td>16</td>\n",
       "      <td>0</td>\n",
       "    </tr>\n",
       "    <tr>\n",
       "      <th>300</th>\n",
       "      <td>35</td>\n",
       "      <td>1.254363</td>\n",
       "      <td>13</td>\n",
       "      <td>0</td>\n",
       "    </tr>\n",
       "    <tr>\n",
       "      <th>301</th>\n",
       "      <td>30</td>\n",
       "      <td>7.449217</td>\n",
       "      <td>16</td>\n",
       "      <td>0</td>\n",
       "    </tr>\n",
       "    <tr>\n",
       "      <th>302</th>\n",
       "      <td>16</td>\n",
       "      <td>2.280413</td>\n",
       "      <td>29</td>\n",
       "      <td>1</td>\n",
       "    </tr>\n",
       "  </tbody>\n",
       "</table>\n",
       "<p>303 rows × 4 columns</p>\n",
       "</div>"
      ],
      "text/plain": [
       "     Temperature  Distance  Days Since Last  Gym Attendance\n",
       "0             38  1.716910               28               0\n",
       "1             26  3.713541                8               1\n",
       "2             15  9.316795               19               0\n",
       "3             39  2.633848                5               0\n",
       "4             35  4.035587               17               0\n",
       "..           ...       ...              ...             ...\n",
       "298           36  7.333859                5               0\n",
       "299           27  8.957452               16               0\n",
       "300           35  1.254363               13               0\n",
       "301           30  7.449217               16               0\n",
       "302           16  2.280413               29               1\n",
       "\n",
       "[303 rows x 4 columns]"
      ]
     },
     "execution_count": 3,
     "metadata": {},
     "output_type": "execute_result"
    }
   ],
   "source": [
    "df = pd.read_csv(\"J:\\Data Science\\My Overall Notes\\Data\\Logistics_reg.csv\")\n",
    "df"
   ]
  },
  {
   "cell_type": "markdown",
   "id": "4284defe-1407-446e-b321-53f29efe2b6d",
   "metadata": {},
   "source": [
    "## Scenario:\n",
    "### Predict whether a person will go to the gym or stay home based on:\n",
    "    1. Outside temperature (hot weather = less likely),\n",
    "    2. Gym distance (km),\n",
    "    3. Time since the last workout (days).\n",
    "#### Features: Temperature, Distance, Days since last workout.\n",
    "#### Target: Binary classification (Gym: Yes/No)\n",
    "## Step 2: We will extract the dependent and independent variables from the given dataset. "
   ]
  },
  {
   "cell_type": "code",
   "execution_count": 5,
   "id": "548aa528-6f2c-436e-a0b4-da3574fbe111",
   "metadata": {},
   "outputs": [],
   "source": [
    "X = df[['Temperature', 'Distance']]\n",
    "y = df[['Gym Attendance']].values.ravel() # Converts target column to 1D array"
   ]
  },
  {
   "cell_type": "markdown",
   "id": "68dcfe75-64cb-4e32-9f2d-105c23ae8653",
   "metadata": {},
   "source": [
    "## Step 2.1: Spliting the dataset into training and Testing data"
   ]
  },
  {
   "cell_type": "code",
   "execution_count": 93,
   "id": "7348bc1a-2988-4bfb-9aa9-67fd3367a32b",
   "metadata": {},
   "outputs": [],
   "source": [
    "from sklearn.model_selection import train_test_split\n",
    "x_train, x_test,  y_train, y_test= train_test_split(X, y , test_size = 0.30, random_state=0 )"
   ]
  },
  {
   "cell_type": "markdown",
   "id": "fdf2814c-6945-4e52-9a04-e7137537fff5",
   "metadata": {},
   "source": [
    "## Step 2.3: Feature Scaling\n",
    "\n",
    "### In logistic regression, we will do feature scaling because we want accurate result of predictions"
   ]
  },
  {
   "cell_type": "code",
   "execution_count": 95,
   "id": "c233e512-4711-4440-a2b9-a3b82c1280bb",
   "metadata": {},
   "outputs": [],
   "source": [
    "# We will only scale the independent variable because dependent variable have only 0 and 1 values.\n",
    "from sklearn.preprocessing import StandardScaler    \n",
    "\n",
    "st_x= StandardScaler()    \n",
    "\n",
    "x_train= st_x.fit_transform(x_train)    \n",
    "x_test= st_x.transform(x_test)"
   ]
  },
  {
   "cell_type": "markdown",
   "id": "f655474d-4b7b-4f04-a943-57161ba6e65e",
   "metadata": {},
   "source": [
    "## Step 2.4: Fitting the Model to the Training set"
   ]
  },
  {
   "cell_type": "code",
   "execution_count": 97,
   "id": "317db6b8-2011-47cc-a3d0-7f33f7547ab2",
   "metadata": {},
   "outputs": [
    {
     "data": {
      "text/html": [
       "<style>#sk-container-id-3 {color: black;background-color: white;}#sk-container-id-3 pre{padding: 0;}#sk-container-id-3 div.sk-toggleable {background-color: white;}#sk-container-id-3 label.sk-toggleable__label {cursor: pointer;display: block;width: 100%;margin-bottom: 0;padding: 0.3em;box-sizing: border-box;text-align: center;}#sk-container-id-3 label.sk-toggleable__label-arrow:before {content: \"▸\";float: left;margin-right: 0.25em;color: #696969;}#sk-container-id-3 label.sk-toggleable__label-arrow:hover:before {color: black;}#sk-container-id-3 div.sk-estimator:hover label.sk-toggleable__label-arrow:before {color: black;}#sk-container-id-3 div.sk-toggleable__content {max-height: 0;max-width: 0;overflow: hidden;text-align: left;background-color: #f0f8ff;}#sk-container-id-3 div.sk-toggleable__content pre {margin: 0.2em;color: black;border-radius: 0.25em;background-color: #f0f8ff;}#sk-container-id-3 input.sk-toggleable__control:checked~div.sk-toggleable__content {max-height: 200px;max-width: 100%;overflow: auto;}#sk-container-id-3 input.sk-toggleable__control:checked~label.sk-toggleable__label-arrow:before {content: \"▾\";}#sk-container-id-3 div.sk-estimator input.sk-toggleable__control:checked~label.sk-toggleable__label {background-color: #d4ebff;}#sk-container-id-3 div.sk-label input.sk-toggleable__control:checked~label.sk-toggleable__label {background-color: #d4ebff;}#sk-container-id-3 input.sk-hidden--visually {border: 0;clip: rect(1px 1px 1px 1px);clip: rect(1px, 1px, 1px, 1px);height: 1px;margin: -1px;overflow: hidden;padding: 0;position: absolute;width: 1px;}#sk-container-id-3 div.sk-estimator {font-family: monospace;background-color: #f0f8ff;border: 1px dotted black;border-radius: 0.25em;box-sizing: border-box;margin-bottom: 0.5em;}#sk-container-id-3 div.sk-estimator:hover {background-color: #d4ebff;}#sk-container-id-3 div.sk-parallel-item::after {content: \"\";width: 100%;border-bottom: 1px solid gray;flex-grow: 1;}#sk-container-id-3 div.sk-label:hover label.sk-toggleable__label {background-color: #d4ebff;}#sk-container-id-3 div.sk-serial::before {content: \"\";position: absolute;border-left: 1px solid gray;box-sizing: border-box;top: 0;bottom: 0;left: 50%;z-index: 0;}#sk-container-id-3 div.sk-serial {display: flex;flex-direction: column;align-items: center;background-color: white;padding-right: 0.2em;padding-left: 0.2em;position: relative;}#sk-container-id-3 div.sk-item {position: relative;z-index: 1;}#sk-container-id-3 div.sk-parallel {display: flex;align-items: stretch;justify-content: center;background-color: white;position: relative;}#sk-container-id-3 div.sk-item::before, #sk-container-id-3 div.sk-parallel-item::before {content: \"\";position: absolute;border-left: 1px solid gray;box-sizing: border-box;top: 0;bottom: 0;left: 50%;z-index: -1;}#sk-container-id-3 div.sk-parallel-item {display: flex;flex-direction: column;z-index: 1;position: relative;background-color: white;}#sk-container-id-3 div.sk-parallel-item:first-child::after {align-self: flex-end;width: 50%;}#sk-container-id-3 div.sk-parallel-item:last-child::after {align-self: flex-start;width: 50%;}#sk-container-id-3 div.sk-parallel-item:only-child::after {width: 0;}#sk-container-id-3 div.sk-dashed-wrapped {border: 1px dashed gray;margin: 0 0.4em 0.5em 0.4em;box-sizing: border-box;padding-bottom: 0.4em;background-color: white;}#sk-container-id-3 div.sk-label label {font-family: monospace;font-weight: bold;display: inline-block;line-height: 1.2em;}#sk-container-id-3 div.sk-label-container {text-align: center;}#sk-container-id-3 div.sk-container {/* jupyter's `normalize.less` sets `[hidden] { display: none; }` but bootstrap.min.css set `[hidden] { display: none !important; }` so we also need the `!important` here to be able to override the default hidden behavior on the sphinx rendered scikit-learn.org. See: https://github.com/scikit-learn/scikit-learn/issues/21755 */display: inline-block !important;position: relative;}#sk-container-id-3 div.sk-text-repr-fallback {display: none;}</style><div id=\"sk-container-id-3\" class=\"sk-top-container\"><div class=\"sk-text-repr-fallback\"><pre>LogisticRegression()</pre><b>In a Jupyter environment, please rerun this cell to show the HTML representation or trust the notebook. <br />On GitHub, the HTML representation is unable to render, please try loading this page with nbviewer.org.</b></div><div class=\"sk-container\" hidden><div class=\"sk-item\"><div class=\"sk-estimator sk-toggleable\"><input class=\"sk-toggleable__control sk-hidden--visually\" id=\"sk-estimator-id-3\" type=\"checkbox\" checked><label for=\"sk-estimator-id-3\" class=\"sk-toggleable__label sk-toggleable__label-arrow\">LogisticRegression</label><div class=\"sk-toggleable__content\"><pre>LogisticRegression()</pre></div></div></div></div></div>"
      ],
      "text/plain": [
       "LogisticRegression()"
      ]
     },
     "execution_count": 97,
     "metadata": {},
     "output_type": "execute_result"
    }
   ],
   "source": [
    "#Fitting model in Traing data set\n",
    "from sklearn.linear_model import LogisticRegression\n",
    "\n",
    "model = LogisticRegression()\n",
    "model.fit(x_train, y_train)"
   ]
  },
  {
   "cell_type": "markdown",
   "id": "0a9af936-5af0-4742-b82b-6267fa7d79f5",
   "metadata": {},
   "source": [
    "## Step 2.5: Predicting Twoards the Test Result"
   ]
  },
  {
   "cell_type": "code",
   "execution_count": 99,
   "id": "ffe33428-cd89-4f88-9039-23cf5d811678",
   "metadata": {},
   "outputs": [
    {
     "name": "stdout",
     "output_type": "stream",
     "text": [
      "[0 0 1 0 0 1 1 0 0 0 1 0 0 0 0 0 0 0 0 1 0 0 0 0 1 1 1 0 0 0 1 0 1 0 1 0 0\n",
      " 0 1 0 0 0 0 0 0 0 0 0 0 0 0 0 0 0 0 0 0 1 0 0 1 0 0 0 0 0 0 1 0 0 0 0 0 1\n",
      " 0 0 0 0 0 0 0 0 0 0 0 0 0 0 0 0 0]\n"
     ]
    }
   ],
   "source": [
    "y_pred = model.predict(x_test)\n",
    "print(y_pred)"
   ]
  },
  {
   "cell_type": "markdown",
   "id": "78f41cf8-b3f5-48e6-b8ee-a0db24cc0b1c",
   "metadata": {},
   "source": [
    "## Step 3: Evaluation "
   ]
  },
  {
   "cell_type": "code",
   "execution_count": 107,
   "id": "9bd007d3-652b-41aa-9245-3498a4350e7c",
   "metadata": {},
   "outputs": [
    {
     "name": "stdout",
     "output_type": "stream",
     "text": [
      "[[69  3]\n",
      " [ 6 13]]\n"
     ]
    }
   ],
   "source": [
    "from sklearn.metrics import accuracy_score, confusion_matrix, classification_report, precision_score, recall_score, f1_score\n",
    "# confusion_matrix\n",
    "cm = confusion_matrix(y_test, y_pred)\n",
    "print(cm)"
   ]
  },
  {
   "cell_type": "markdown",
   "id": "f27e9869-da89-4247-994a-9b2cfd710785",
   "metadata": {},
   "source": [
    "#### By analyzing the confusion matrix, we can determine how accurate the projected outcome was and also \n",
    "#### we can understand that 69+13= 82 (Correct Output) and 6+3= 9 (Incorrect Output)."
   ]
  },
  {
   "cell_type": "code",
   "execution_count": 109,
   "id": "1137b316-f8f4-4603-a491-947e0794dad7",
   "metadata": {},
   "outputs": [
    {
     "name": "stdout",
     "output_type": "stream",
     "text": [
      "Accuracy: 0.90\n",
      "Precision: 0.81\n",
      "Recall: 0.68\n",
      "F1 Score: 0.74\n"
     ]
    }
   ],
   "source": [
    "# Accuracy\n",
    "accuracy = accuracy_score(y_test, y_pred)\n",
    "print(f\"Accuracy: {accuracy:.2f}\")\n",
    "\n",
    "# Calculate precision\n",
    "precision = precision_score(y_test, y_pred)\n",
    "print(f\"Precision: {precision:.2f}\")\n",
    "\n",
    "# Calculate recall\n",
    "recall = recall_score(y_test, y_pred)\n",
    "print(f\"Recall: {recall:.2f}\")\n",
    "\n",
    "# Calculate F1 score (harmonic mean of precision and recall)\n",
    "f1 = f1_score(y_test, y_pred)\n",
    "print(f\"F1 Score: {f1:.2f}\")"
   ]
  },
  {
   "cell_type": "code",
   "execution_count": 68,
   "id": "99c4f2bc-2135-4681-9ad3-e0f3e5e5bf36",
   "metadata": {},
   "outputs": [
    {
     "name": "stdout",
     "output_type": "stream",
     "text": [
      "Classification Report:\n",
      "              precision    recall  f1-score   support\n",
      "\n",
      "           0       0.92      0.96      0.94        72\n",
      "           1       0.81      0.68      0.74        19\n",
      "\n",
      "    accuracy                           0.90        91\n",
      "   macro avg       0.87      0.82      0.84        91\n",
      "weighted avg       0.90      0.90      0.90        91\n",
      "\n"
     ]
    }
   ],
   "source": [
    "# Classification Report\n",
    "cr = classification_report(y_test, y_pred)\n",
    "print(\"Classification Report:\")\n",
    "print(cr)"
   ]
  },
  {
   "cell_type": "markdown",
   "id": "6577e2c8-cdcc-4796-9db6-ef6bc3ec963a",
   "metadata": {},
   "source": [
    "## Step 4: Visualizing the training set result"
   ]
  },
  {
   "cell_type": "code",
   "execution_count": 121,
   "id": "aee73b88-af5f-4e46-a4e7-6bb81e9877c5",
   "metadata": {},
   "outputs": [
    {
     "data": {
      "image/png": "[encoded data removed]",
      "text/plain": [
       "<Figure size 640x480 with 1 Axes>"
      ]
     },
     "metadata": {},
     "output_type": "display_data"
    }
   ],
   "source": [
    "from matplotlib.colors import ListedColormap\n",
    "\n",
    "# Visualize decision boundary (training set)\n",
    "x_set, y_set = x_train, y_train\n",
    "x1, x2 = np.meshgrid(\n",
    "    np.arange(start=x_set[:, 0].min() - 1, stop=x_set[:, 0].max() + 1, step=0.01),\n",
    "    np.arange(start=x_set[:, 1].min() - 1, stop=x_set[:, 1].max() + 1, step=0.01),\n",
    ")\n",
    "\n",
    "plt.contourf(\n",
    "    x1,\n",
    "    x2,\n",
    "    model.predict(np.array([x1.ravel(), x2.ravel()]).T).reshape(x1.shape),\n",
    "    alpha=0.75,\n",
    "    cmap=ListedColormap([\"#f54ef5\", \"#02d902\"]),\n",
    ")\n",
    "plt.xlim(x1.min(), x1.max())\n",
    "plt.ylim(x2.min(), x2.max())\n",
    "\n",
    "# Scatter plot\n",
    "for i, j in enumerate(np.unique(y_set)):\n",
    "    plt.scatter(\n",
    "        x_set[y_set == j, 0],\n",
    "        x_set[y_set == j, 1],\n",
    "        color=[\"#800080\", \"#008000\"][i],  # Fixed color issue\n",
    "        label=j,\n",
    "    )\n",
    "\n",
    "plt.title(\"Logistic Regression (Training set)\")\n",
    "plt.xlabel(\"Temperature \")\n",
    "plt.ylabel(\"Distance\")\n",
    "plt.legend()\n",
    "plt.show()"
   ]
  },
  {
   "cell_type": "markdown",
   "id": "ea3fd6e1-083e-481a-8c97-013b1de97a22",
   "metadata": {},
   "source": [
    "#### The `purple` point observations are for which purchased (dependent variable) is probably 0 means Boys who `Not went` for GYM\n",
    "#### The `green` point observations are for which purchased (dependent variable) is probably 1 means Boys who `went` for GYM"
   ]
  },
  {
   "cell_type": "markdown",
   "id": "4dae3bc7-0814-4972-84fd-22c4034078e7",
   "metadata": {},
   "source": [
    "## Step 4.1: Visualizing the training set result"
   ]
  },
  {
   "cell_type": "code",
   "execution_count": 127,
   "id": "3a8f4f36-e48e-455d-a18e-dccde1a2df9e",
   "metadata": {},
   "outputs": [
    {
     "data": {
      "image/png": "[encoded data removed]",
      "text/plain": [
       "<Figure size 640x480 with 1 Axes>"
      ]
     },
     "metadata": {},
     "output_type": "display_data"
    }
   ],
   "source": [
    "from matplotlib.colors import ListedColormap\n",
    "\n",
    "# Visualize decision boundary (training set)\n",
    "x_set, y_set = x_test, y_test  \n",
    "x1, x2 = np.meshgrid(\n",
    "    np.arange(start=x_set[:, 0].min() - 1, stop=x_set[:, 0].max() + 1, step=0.01),\n",
    "    np.arange(start=x_set[:, 1].min() - 1, stop=x_set[:, 1].max() + 1, step=0.01),\n",
    ")\n",
    "\n",
    "plt.contourf(\n",
    "    x1,\n",
    "    x2,\n",
    "    model.predict(np.array([x1.ravel(), x2.ravel()]).T).reshape(x1.shape),\n",
    "    alpha=0.75,\n",
    "    cmap=ListedColormap([\"#f54ef5\", \"#02d902\"]),\n",
    ")\n",
    "plt.xlim(x1.min(), x1.max())\n",
    "plt.ylim(x2.min(), x2.max())\n",
    "\n",
    "# Scatter plot\n",
    "for i, j in enumerate(np.unique(y_set)):\n",
    "    plt.scatter(\n",
    "        x_set[y_set == j, 0],\n",
    "        x_set[y_set == j, 1],\n",
    "        color=[\"#800080\", \"#008000\"][i],  # Fixed color issue\n",
    "        label=j,\n",
    "    )\n",
    "\n",
    "plt.title(\"Logistic Regression (Testing set)\")\n",
    "plt.xlabel(\"Temperature \")\n",
    "plt.ylabel(\"Distance\")\n",
    "plt.legend()\n",
    "plt.show()"
   ]
  },
  {
   "cell_type": "markdown",
   "id": "f23e3263-6da3-4ed6-86ce-3efb960a26f0",
   "metadata": {},
   "source": [
    "### We can estimate from the above graph that the Boys `went` for the gym when the `temperature is low` and with `less distance`\n",
    "### and also the Boys `not went` for the gym when the `temperature is high` and with `more distance` "
   ]
  },
  {
   "cell_type": "markdown",
   "id": "61589f20-ce0c-44b0-9470-87f3d3c9567c",
   "metadata": {},
   "source": [
    "## Step 5: Checking the Feature Importance"
   ]
  },
  {
   "cell_type": "code",
   "execution_count": 29,
   "id": "a07b87f0-b805-4d3d-936b-f10f5a7cc4b9",
   "metadata": {},
   "outputs": [
    {
     "name": "stdout",
     "output_type": "stream",
     "text": [
      "Feature Importance:\n",
      "       Feature  Coefficient\n",
      "0  Temperature    -1.319554\n",
      "1     Distance    -1.940549\n"
     ]
    }
   ],
   "source": [
    "# 7. Feature Importance\n",
    "coefficients = pd.DataFrame({\n",
    "    'Feature': X.columns,\n",
    "    'Coefficient': model.coef_[0]\n",
    "}).sort_values(by='Coefficient', ascending=False)\n",
    "print(\"Feature Importance:\")\n",
    "print(coefficients)"
   ]
  }
 ],
 "metadata": {
  "kernelspec": {
   "display_name": "Python 3 (ipykernel)",
   "language": "python",
   "name": "python3"
  },
  "language_info": {
   "codemirror_mode": {
    "name": "ipython",
    "version": 3
   },
   "file_extension": ".py",
   "mimetype": "text/x-python",
   "name": "python",
   "nbconvert_exporter": "python",
   "pygments_lexer": "ipython3",
   "version": "3.11.7"
  }
 },
 "nbformat": 4,
 "nbformat_minor": 5
}
